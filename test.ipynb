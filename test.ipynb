{
 "cells": [
  {
   "cell_type": "code",
   "execution_count": 4,
   "metadata": {},
   "outputs": [
    {
     "name": "stdout",
     "output_type": "stream",
     "text": [
      "https://www.costco.com.tw/Food-Dining/Drinks/Coffee/Nescafe-Gold-Cold-Brew-Bag-10-g-X-40-Pack/p/132545\n",
      "https://www.costco.com.tw/Food-Dining/Drinks/Beverages-Juice/AGV-Honey-Oatmeal-Drink-340-ml-X-12-Count/p/973132\n",
      "https://www.costco.com.tw/Food-Dining/Drinks/Beverages-Juice/AGV-100-Oatmeal-Drink-340-ml-X-12-Count/p/97313\n",
      "https://www.costco.com.tw/Food-Dining/Snacks/Nuts-Jerky/Viva-Dry-Roasted-Trail-Mix-42-g-X-20-Pack/p/119227\n",
      "https://www.costco.com.tw/Househould-Baby-Toys/Household-Essentials/Toilet-Paper-Paper-Towels/Kirkland-Signature-3-Ply-Interfold-Bath-Tissue-120-Sheet-X-72-Count/p/189999\n",
      "https://www.costco.com.tw/Health-Beauty/Supplements/Multi-Letter-Vitamins/Redoxon-CDZinc-Effervescent-Orange-Flavor-45-Tablet-15-Tablet-X-3-Pack/p/200762\n",
      "https://www.costco.com.tw/Food-Dining/Snacks/Cookies-Chips/Samlip-Garlic-Baguette-120-g-X-6-Pack/p/126612\n"
     ]
    }
   ],
   "source": [
    "item_dict ={\n",
    "            \"雀巢 金牌冰萃濾袋研磨咖啡 10 公克 X 40 包\":\"https://www.costco.com.tw/Food-Dining/Drinks/Coffee/Nescafe-Gold-Cold-Brew-Bag-10-g-X-40-Pack/p/132545\",\n",
    "            \"愛之味 蜂蜜燕麥 340毫升 X 12入 一次2箱\":\"https://www.costco.com.tw/Food-Dining/Drinks/Beverages-Juice/AGV-Honey-Oatmeal-Drink-340-ml-X-12-Count/p/973132\",\n",
    "            \"愛之味 純濃燕麥 340毫升 X 12入 一次2箱\":\"https://www.costco.com.tw/Food-Dining/Drinks/Beverages-Juice/AGV-100-Oatmeal-Drink-340-ml-X-12-Count/p/97313\",\n",
    "            \"萬歲牌 總匯點心包 42公克 X 20入 一次2箱\":\"https://www.costco.com.tw/Food-Dining/Snacks/Nuts-Jerky/Viva-Dry-Roasted-Trail-Mix-42-g-X-20-Pack/p/119227\",\n",
    "            \"Kirkland Signature 科克蘭 三層抽取衛生紙 120抽 X 72入\":\"https://www.costco.com.tw/Househould-Baby-Toys/Household-Essentials/Toilet-Paper-Paper-Towels/Kirkland-Signature-3-Ply-Interfold-Bath-Tissue-120-Sheet-X-72-Count/p/189999\",\n",
    "            \"Redoxon 力度伸 維他命C+D+鋅發泡錠(柳橙口味) 45錠 (15錠 X 3條)\":\"https://www.costco.com.tw/Health-Beauty/Supplements/Multi-Letter-Vitamins/Redoxon-CDZinc-Effervescent-Orange-Flavor-45-Tablet-15-Tablet-X-3-Pack/p/200762\",\n",
    "            \"Samlip 法式小麵包蒜香口味 120公克 X 6入\":\"https://www.costco.com.tw/Food-Dining/Snacks/Cookies-Chips/Samlip-Garlic-Baguette-120-g-X-6-Pack/p/126612\",\n",
    "\n",
    "}\n",
    "\n",
    "for item in item_dict:\n",
    "    print(item_dict[item])"
   ]
  },
  {
   "cell_type": "code",
   "execution_count": null,
   "metadata": {},
   "outputs": [],
   "source": []
  }
 ],
 "metadata": {
  "kernelspec": {
   "display_name": "selenium0815-u_djCa4Q",
   "language": "python",
   "name": "python3"
  },
  "language_info": {
   "codemirror_mode": {
    "name": "ipython",
    "version": 3
   },
   "file_extension": ".py",
   "mimetype": "text/x-python",
   "name": "python",
   "nbconvert_exporter": "python",
   "pygments_lexer": "ipython3",
   "version": "3.10.10"
  }
 },
 "nbformat": 4,
 "nbformat_minor": 2
}
